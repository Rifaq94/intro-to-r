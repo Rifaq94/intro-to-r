{
 "cells": [
  {
   "cell_type": "markdown",
   "id": "5dfaa622-bb44-430f-91a9-d297ea95d55b",
   "metadata": {},
   "source": [
    "## load libraries and data"
   ]
  },
  {
   "cell_type": "code",
   "execution_count": null,
   "id": "17f129b1-e98a-4dc1-9c63-6ca478a11844",
   "metadata": {},
   "outputs": [],
   "source": [
    "library(tidyverse)\n",
    "\n",
    "station_data <- read_csv('data/combined_stations.csv')"
   ]
  },
  {
   "cell_type": "markdown",
   "id": "82f75cc1-9b95-4cea-b206-708b696d1282",
   "metadata": {},
   "source": [
    "## Set up and run an AOV test to compare annual total rainfall at all four stations, using data from all available years. Are there significant differences between the stations? Use TukeyHSD() or pairwise.t.test() (documentation) to investigate further.\n",
    "\n",
    "First, we group by `station` and `year`, then `summarize()` using `sum()` to get the annual total rainfall, and assign this to an object."
   ]
  },
  {
   "cell_type": "code",
   "execution_count": null,
   "id": "23c986fb-16ca-4924-9bdd-1cd4f06f9802",
   "metadata": {},
   "outputs": [],
   "source": [
    "station_data |> \n",
    "    group_by(station, year) |> \n",
    "    summarize(rain = sum(rain)) -> total_rain"
   ]
  },
  {
   "cell_type": "markdown",
   "id": "c857b699-ca98-4093-aa3d-526357a63610",
   "metadata": {},
   "source": [
    "Next, look at a box plot to get an idea of the differences:"
   ]
  },
  {
   "cell_type": "code",
   "execution_count": null,
   "id": "d297188a-6c8f-4c2a-9d36-9d8b640ff3dc",
   "metadata": {},
   "outputs": [],
   "source": [
    "ggplot(data = total_rain, mapping = aes(x = station, y = rain)) + geom_boxplot()"
   ]
  },
  {
   "cell_type": "markdown",
   "id": "b261eb07-6db2-4e00-987a-efd103590f81",
   "metadata": {},
   "source": [
    "Use `aov()` to do the analysis of variance, and print the summary:"
   ]
  },
  {
   "cell_type": "code",
   "execution_count": null,
   "id": "9dd00e5c-1a2e-4fd5-825d-46afc50bf6b6",
   "metadata": {},
   "outputs": [],
   "source": [
    "rain_aov <- aov(rain~station, data=total_rain)\n",
    "summary(rain_aov)"
   ]
  },
  {
   "cell_type": "markdown",
   "id": "3cd5dbc1-08e2-49f0-8f81-88dfb618f09a",
   "metadata": {},
   "source": [
    "So there is a significant difference between at least one pair of the stations; using `TukeyHSD()`, we can check each pair individually:"
   ]
  },
  {
   "cell_type": "code",
   "execution_count": null,
   "id": "64e20078-d493-4477-ac05-d9fa4c2fce0f",
   "metadata": {},
   "outputs": [],
   "source": [
    "TukeyHSD(rain_aov)"
   ]
  },
  {
   "cell_type": "markdown",
   "id": "ed0db152-bc11-4732-ad42-8e7a32095c62",
   "metadata": {},
   "source": [
    "So, the only station pair with no significant difference is Southampton and Armagh (p = 0.175); for all other pairs, the difference is statistically significant."
   ]
  },
  {
   "cell_type": "markdown",
   "id": "99b8725f-64e4-4be3-b163-ff18a8cbb6f4",
   "metadata": {},
   "source": [
    "## Using only observations from Armagh, set up and run a test to see if there are significant differences in rainfall based on the season.\n",
    "\n",
    "First, select only observations from Armagh:"
   ]
  },
  {
   "cell_type": "code",
   "execution_count": null,
   "id": "acd52ff1-a4d9-4f14-b936-e5ad82e02b1e",
   "metadata": {},
   "outputs": [],
   "source": [
    "armagh <- station_data |> filter(station == 'armagh')"
   ]
  },
  {
   "cell_type": "markdown",
   "id": "7a34ad10-7cca-45e7-a923-34178f82be04",
   "metadata": {},
   "source": [
    "Use `aov()` to test for differences between seasons:"
   ]
  },
  {
   "cell_type": "code",
   "execution_count": null,
   "id": "0c9ac537-6827-4399-b027-74a223bd0b13",
   "metadata": {},
   "outputs": [],
   "source": [
    "armagh_season <- aov(rain~season, data=armagh)\n",
    "summary(armagh_season)"
   ]
  },
  {
   "cell_type": "markdown",
   "id": "1a71b8b0-7ea1-46da-b551-88ca400a687a",
   "metadata": {},
   "source": [
    "And, use `pairwise.t.test()` to see which season pairs have a significant difference:"
   ]
  },
  {
   "cell_type": "code",
   "execution_count": null,
   "id": "a295d6e6-a2fe-4f41-835d-89d54053e018",
   "metadata": {},
   "outputs": [],
   "source": [
    "pairwise.t.test(armagh$rain, armagh$season)"
   ]
  },
  {
   "cell_type": "markdown",
   "id": "5b9aedeb-6907-4899-99a5-3050df448a5b",
   "metadata": {},
   "source": [
    "## Using only observations from Oxford, is there a significant difference between the values of tmax in the spring and the autumn at the 99.9% confidence level?\n",
    "\n",
    "First, select only observations from Oxford:"
   ]
  },
  {
   "cell_type": "code",
   "execution_count": null,
   "id": "451f8e05-3a7f-48e5-a47a-7c0b05147225",
   "metadata": {},
   "outputs": [],
   "source": [
    "oxford <- station_data |> filter(station == 'oxford')"
   ]
  },
  {
   "cell_type": "markdown",
   "id": "05c22fbd-a024-456a-a8e1-750d7d816f05",
   "metadata": {},
   "source": [
    "Next, use `t.test()` - we're only testing for a difference, so use `two.sided`:"
   ]
  },
  {
   "cell_type": "code",
   "execution_count": null,
   "id": "f424caf2-7ce8-4f50-9caa-57464429a967",
   "metadata": {},
   "outputs": [],
   "source": [
    "oxford.spring <- oxford |> filter(season == 'spring') |> pull(tmax)\n",
    "oxford.autumn <- oxford |> filter(season == 'autumn') |> pull(tmax)\n",
    "\n",
    "t.test(oxford.spring, oxford.autumn, alternative='two.sided', conf.level=0.999)"
   ]
  },
  {
   "cell_type": "markdown",
   "id": "61b0870f-9ab5-4872-8f16-3d37ed26cc0e",
   "metadata": {},
   "source": [
    "## Using only observations from Stornoway Airport, is the value of tmin significantly lower in the winter than in the autumn?"
   ]
  },
  {
   "cell_type": "code",
   "execution_count": null,
   "id": "8375a617-4db0-4024-b135-cd407b02a660",
   "metadata": {},
   "outputs": [],
   "source": [
    "stornoway <- station_data |> filter(station == 'stornoway')\n",
    "\n",
    "stornoway.winter <- stornoway |> filter(season == 'winter') |> pull(tmin)\n",
    "stornoway.autumn <- stornoway |> filter(season == 'autumn') |> pull(tmin)\n",
    "\n",
    "t.test(stornoway.winter, stornoway.autumn, alternative='less', conf.level=0.99)"
   ]
  }
 ],
 "metadata": {
  "kernelspec": {
   "display_name": "R",
   "language": "R",
   "name": "ir"
  },
  "language_info": {
   "codemirror_mode": "r",
   "file_extension": ".r",
   "mimetype": "text/x-r-source",
   "name": "R",
   "pygments_lexer": "r",
   "version": "4.1.3"
  }
 },
 "nbformat": 4,
 "nbformat_minor": 5
}
