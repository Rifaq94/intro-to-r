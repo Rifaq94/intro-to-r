{
 "cells": [
  {
   "cell_type": "markdown",
   "id": "c5c72680-b167-48d4-b9be-9f56b329ea8b",
   "metadata": {
    "tags": []
   },
   "source": [
    "# introduction to R using jupyterlab\n",
    "\n",
    "## overview\n",
    "\n",
    "Programming is a powerful tool that allows us to do complicated calculations and analysis, visualize data, and automate workflows to ensure consistency, accuracy, and reproducibility in our research. \n",
    "\n",
    "In this exercise, you will get a basic introduction to the __R__ programming language, including variables and objects, data types and data structures, and how to load data from external files. Over the next few sessions, we will build on these ideas, using some real example data, to get more of an idea of how to use __R__ in our research.\n",
    "\n",
    "This is an _interactive_ notebook - in between bits of text, there are interactive cells like the one below, which you can use to execute snippets of __R__ code. To run these cells, highlight them by clicking on them, then press __CTRL__ and __ENTER__ (or by pressing the \"play\" button at the top of this tab).\n",
    "\n",
    "## objectives\n",
    "\n",
    "- learn and gain experience with some of the basic elements of R and programming\n",
    "- learn how to use the interactive command prompt\n",
    "- practice planning out a script\n",
    "\n",
    "## objects and assignment\n",
    "\n",
    "We'll start by creating a new __object__, `foo`, and _assigning_ it a __value__ of `\"hello, world!\"`. Then, we use the built-in `print()` function (more on these later) to see the value of that object. Go ahead and run the cell to get started."
   ]
  },
  {
   "cell_type": "code",
   "execution_count": null,
   "id": "5c886a0d-1629-4d66-b283-eb79f9db779c",
   "metadata": {
    "tags": []
   },
   "outputs": [],
   "source": [
    "foo <- \"hello, world!\" # assign an object using <-\n",
    "print(foo) # print the object to the terminal"
   ]
  },
  {
   "cell_type": "markdown",
   "id": "8d36bd8d-1b4a-402c-a5fc-45b165d59387",
   "metadata": {},
   "source": [
    "You should notice that the cell has changed. First, the square brackets (`[ ]`) have a number inside of them (`[1]`), and you can also see the output below the cell:\n",
    "\n",
    "`[1] \"hello, world!\"`\n",
    "\n",
    "The `print()` function allows us to print messages and information to the screen. We'll see a number of other uses of it as we go, but you can also read more about it in the [documentation](https://www.rdocumentation.org/packages/base/versions/3.6.2/topics/print).\n",
    "\n",
    "One important thing to remember is that the _name_ of an __object__ is _case-sensitive_ (meaning that _foo_ is different from _Foo_):"
   ]
  },
  {
   "cell_type": "code",
   "execution_count": null,
   "id": "62741c46-d000-44c9-b0ac-f5c32f868d31",
   "metadata": {
    "tags": []
   },
   "outputs": [],
   "source": [
    "print(Foo) # this won't work, because we haven't created an object called Foo yet"
   ]
  },
  {
   "cell_type": "markdown",
   "id": "43186324-ef26-4d4b-90e1-05a44c0eb241",
   "metadata": {},
   "source": [
    "We'll see more examples of error messages later (and how to interpret them), but hopefully the message:\n",
    "\n",
    "`Error in print(Foo): object 'Foo' not found`\n",
    "\n",
    "is clear enough. Because we were expecting this error message, we can ignore it and move on.\n",
    "\n",
    "## data types\n",
    "\n",
    "So, we've created our first __object__, `foo`. But what kind of object is `foo`? To find out, we can use the `typeof()` function ([documentation](https://www.rdocumentation.org/packages/base/versions/3.6.2/topics/typeof)):"
   ]
  },
  {
   "cell_type": "code",
   "execution_count": null,
   "id": "d5316629-b18d-4d4d-8ad2-bd36816a97ab",
   "metadata": {
    "tags": []
   },
   "outputs": [],
   "source": [
    "typeof(foo) # use the typeof() function to find the type of an object"
   ]
  },
  {
   "cell_type": "markdown",
   "id": "c9686ecf-59be-4fff-94a7-5289e100cf04",
   "metadata": {},
   "source": [
    "So `foo` is an object of type __character__, meaning that it is _text_. \n",
    "\n",
    "In general, __R__ has the following basic data types:\n",
    "\n",
    "- __character__, for text objects\n",
    "- __numeric__, for numbers. These can be divided into the following:\n",
    "    - __double__, for floating-point (real) values\n",
    "    - __integer__, for integer values\n",
    "- __logical__, for boolean (True/False) objects\n",
    "- __complex__, for complex numbers\n",
    "\n",
    "Let's look at an example of a __numeric__ object:"
   ]
  },
  {
   "cell_type": "code",
   "execution_count": null,
   "id": "5d63711a-3172-4a28-93d5-8f4b27c6bbed",
   "metadata": {
    "tags": []
   },
   "outputs": [],
   "source": [
    "x <- 1 # assign a value of 1 to the object x\n",
    "typeof(x) # should be integer, right?"
   ]
  },
  {
   "cell_type": "markdown",
   "id": "58f3fcdd-e20b-44fb-ae15-f1ea5ebc580c",
   "metadata": {},
   "source": [
    "That's interesting - even though we assigned an integer value to `x`, __R__ has created an object of type __double__. This is because by default, numeric values in __R__ are type double. To create an object with an __integer__ value, we append an `L` to each number (alternatively, we can _coerce_ to the integer type using the `as.integer()` function):"
   ]
  },
  {
   "cell_type": "code",
   "execution_count": null,
   "id": "6bd537c6-f7ad-453d-9a63-1957dfa846db",
   "metadata": {
    "tags": []
   },
   "outputs": [],
   "source": [
    "x <- 1L\n",
    "typeof(x)"
   ]
  },
  {
   "cell_type": "code",
   "execution_count": null,
   "id": "92a34fa7-a146-4006-ae94-3b470cdccbdf",
   "metadata": {},
   "outputs": [],
   "source": [
    "As we will see when we "
   ]
  },
  {
   "cell_type": "code",
   "execution_count": null,
   "id": "181eda31-0879-43e7-9ac3-b183509256a7",
   "metadata": {},
   "outputs": [],
   "source": []
  },
  {
   "cell_type": "markdown",
   "id": "fdc4fc08-32e3-4be0-ab64-20b21c99e338",
   "metadata": {
    "tags": []
   },
   "source": [
    "We'll come back to data types more as we work through the example exercises.\n",
    "\n",
    "## data structures\n",
    "\n",
    "Most of the time, we'll want to use groups of data, or _data structures_, rather than individual values. Just like with data types, __R__ has a number of different data structures, ranging from one-dimensional to multi-dimensional structures.  \n",
    "\n",
    "### vectors\n",
    "\n",
    "A __vector__ is the most basic data structure in __R__ - it's a one-dimensional sequence of a single data type.\n",
    "\n",
    "To assign a vector explicitly, we can use the function `c()` (short for \"combine\"):"
   ]
  },
  {
   "cell_type": "code",
   "execution_count": null,
   "id": "e67bd4ef-76ae-43bc-8424-e11063e050be",
   "metadata": {
    "tags": []
   },
   "outputs": [],
   "source": [
    "campuses <- c('Belfast', 'Coleraine', 'Jordanstown', 'Magee')\n",
    "print(campuses)"
   ]
  },
  {
   "cell_type": "markdown",
   "id": "29a20565-ca25-440c-bae5-c9a7520e8839",
   "metadata": {},
   "source": [
    "### indexing\n",
    "\n",
    "To access the individual elements of a vector, we need to use the __index__ of that element, along with square brackets (`[` and `]`). \n",
    "\n",
    "In the example above:\n",
    "\n",
    "```R\n",
    "campuses <- c('Belfast', 'Coleraine', 'Jordanstown', 'Magee')\n",
    "```\n",
    "\n",
    "In __R__, the index of a vector starts at 1. \"Coleraine\" is the second element in the `campuses` vector, which means that it has an index of 2. We can check this with the following cell:"
   ]
  },
  {
   "cell_type": "code",
   "execution_count": null,
   "id": "b325f199-526a-4fdf-9ac3-279c5dff6187",
   "metadata": {
    "tags": []
   },
   "outputs": [],
   "source": [
    "campuses[2] # return the second element from the 'campuses' vector"
   ]
  },
  {
   "cell_type": "markdown",
   "id": "e4e5f71f-b7a1-4763-adb6-f87a42f46040",
   "metadata": {},
   "source": [
    "### factors\n",
    "\n",
    "for categorical data"
   ]
  },
  {
   "cell_type": "code",
   "execution_count": null,
   "id": "807a5e75-299e-45a5-a3cb-18e1c086c640",
   "metadata": {},
   "outputs": [],
   "source": []
  },
  {
   "cell_type": "markdown",
   "id": "bb20ddcc-1c3b-4434-8c1b-283eda1f6c15",
   "metadata": {},
   "source": [
    "### lists\n",
    "\n",
    "for mixing data types"
   ]
  },
  {
   "cell_type": "code",
   "execution_count": null,
   "id": "938f3fcc-2b05-4d35-b09e-8d11b8e53058",
   "metadata": {},
   "outputs": [],
   "source": []
  },
  {
   "cell_type": "markdown",
   "id": "da5a370a-918f-441c-aca5-8de917a6788e",
   "metadata": {},
   "source": [
    "### data frames"
   ]
  },
  {
   "cell_type": "code",
   "execution_count": null,
   "id": "6b1c3c3b-b102-4a32-83af-2ece10180ee2",
   "metadata": {},
   "outputs": [],
   "source": []
  },
  {
   "cell_type": "markdown",
   "id": "d7261e0a-b82a-4a72-8f4a-5146315d93fa",
   "metadata": {
    "tags": []
   },
   "source": [
    "## basic arithmetic\n",
    "\n",
    "- addition/subtraction/multiplication/division\n",
    "- exponentiation\n",
    "- order of operations\n",
    "- logical operators?\n"
   ]
  },
  {
   "cell_type": "code",
   "execution_count": null,
   "id": "1522a0c7-cb9d-4389-a998-584ca42ee611",
   "metadata": {
    "tags": []
   },
   "outputs": [],
   "source": [
    "exp(1)"
   ]
  },
  {
   "cell_type": "code",
   "execution_count": null,
   "id": "85d7ba67-f5d7-43c6-bc64-7f8291742839",
   "metadata": {},
   "outputs": [],
   "source": []
  },
  {
   "cell_type": "markdown",
   "id": "b6110aaf-236e-4091-ac87-18811f644d77",
   "metadata": {},
   "source": [
    "### a note about \"recycling\""
   ]
  },
  {
   "cell_type": "code",
   "execution_count": null,
   "id": "458c1a40-f842-403b-a471-7a197cca91a7",
   "metadata": {},
   "outputs": [],
   "source": []
  },
  {
   "cell_type": "markdown",
   "id": "d90f2863-0113-444e-b33d-1e48eb3c97ac",
   "metadata": {},
   "source": [
    "## functions\n",
    "\n",
    "- example: calculating the area of a circle (also introduces constant pi)\n",
    "    - mention other constants"
   ]
  },
  {
   "cell_type": "code",
   "execution_count": null,
   "id": "c2eae90e-9620-4771-a5cc-5d38e217e5cd",
   "metadata": {},
   "outputs": [],
   "source": []
  },
  {
   "cell_type": "markdown",
   "id": "411194dd-f75c-4ec5-93e2-f122d5ab5536",
   "metadata": {},
   "source": [
    "### built-in functions"
   ]
  },
  {
   "cell_type": "code",
   "execution_count": null,
   "id": "c5c51e41-e2a6-46ee-8ad0-c019be3d8fd3",
   "metadata": {},
   "outputs": [],
   "source": []
  },
  {
   "cell_type": "markdown",
   "id": "9991a149-360b-4540-be00-b9b02b3ed4a1",
   "metadata": {
    "tags": []
   },
   "source": [
    "## controlling flow\n",
    "\n",
    "- if, else\n",
    "- while\n"
   ]
  },
  {
   "cell_type": "code",
   "execution_count": null,
   "id": "45ebd434-1215-4d8a-8587-c1ee5e5a233f",
   "metadata": {},
   "outputs": [],
   "source": []
  },
  {
   "cell_type": "markdown",
   "id": "7d325533-07d8-47fa-b289-59009439ccce",
   "metadata": {},
   "source": [
    "## loading and viewing datasets"
   ]
  },
  {
   "cell_type": "code",
   "execution_count": null,
   "id": "d40f4042-8ffa-4c54-bf45-168732e823cb",
   "metadata": {},
   "outputs": [],
   "source": []
  },
  {
   "cell_type": "markdown",
   "id": "4311fea7-a0fa-4f75-9f7a-bce725c2cd13",
   "metadata": {},
   "source": [
    "topics outline:\n",
    "\n",
    "- objects and assignment\n",
    "- data types\n",
    "- data structures\n",
    "- basic arithmetic operations\n",
    "- functions\n",
    "- controlling flow\n",
    "- loading data from files (SPSS example)"
   ]
  },
  {
   "cell_type": "markdown",
   "id": "80e55a2b-e7e2-4b64-b0fc-beb68bda9071",
   "metadata": {},
   "source": [
    "## recap\n",
    "\n",
    "In this lesson, we have introduced the following concepts:\n",
    "\n",
    "- variables, objects, values, and assignment\n",
    "- data __type__\n",
    "- data structures:\n",
    "    - vectors\n",
    "    - \n",
    "- indexing\n",
    "- arithmetic operations\n",
    "- functions\n",
    "- flow control using logic\n",
    "- loading and viewing data from a file"
   ]
  }
 ],
 "metadata": {
  "kernelspec": {
   "display_name": "R",
   "language": "R",
   "name": "ir"
  },
  "language_info": {
   "codemirror_mode": "r",
   "file_extension": ".r",
   "mimetype": "text/x-r-source",
   "name": "R",
   "pygments_lexer": "r",
   "version": "4.3.1"
  }
 },
 "nbformat": 4,
 "nbformat_minor": 5
}
