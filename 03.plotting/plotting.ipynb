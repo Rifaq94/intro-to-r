{
 "cells": [
  {
   "cell_type": "markdown",
   "id": "34541847-f19e-4930-ba6b-0f716c3ecece",
   "metadata": {},
   "source": [
    "# plotting data with ggplot2\n",
    "\n",
    "The goal: investigating how temperature and rainfall have changed over time, using monthly observations from the Armagh Observatory.\n",
    "\n",
    "- loading libraries\n",
    "- adding variables to a table\n",
    "- **date** objects\n",
    "- recoding values\n",
    "- selecting data from a table\n",
    "- scatter plots (with smoothing lines)\n",
    "- category (bar) plots\n",
    "- histograms (+ smoothed histograms)\n",
    "\n",
    "## data\n",
    "\n",
    "The data used in this exercise are the historic meteorological observations from the [Armagh Observatory](https://www.metoffice.gov.uk/weather/learn-about/how-forecasts-are-made/observations/recording-observations-for-over-100-years), downloaded from the [UK Met Office](https://www.metoffice.gov.uk/research/climate/maps-and-data/historic-station-data).\n",
    "\n",
    "To make the data slightly easier to work with, I have done the following:\n",
    "- Removed the header on lines 1-5\n",
    "- Replaced multiple spaces with a single space, and replaced single spaces with a comma (`,`)\n",
    "- Removed `---` to indicate no data, leaving these fields blank\n",
    "- Removed `*` indicating provisional/estimated values\n",
    "- Removed the 2023 data\n",
    "- Renamed the file `armaghdata.csv`.\n",
    "\n",
    "If you wish to use your own data (and there are loads of stations available!), please feel free. For the best experience, you will likely need to repeat the steps indicated above.\n",
    "\n",
    "## loading libraries\n",
    "\n",
    "Before getting started, we need to load the libraries we will use in the exercise. We will be using three libraries:\n",
    "- [readr](https://readr.tidyverse.org/), for reading the data from a file;\n",
    "- [ggplot2](https://ggplot2.tidyverse.org/), for plotting the data;\n",
    "- and [dplyr](https://dplyr.tidyverse.org/), for transforming/manipulating (read: \"analyzing\" or \"working with\", not \"fabricating\"!) the data.\n",
    "\n",
    "To do this, we use the `library()` function ([documentation](https://devdocs.io/r/library/base/html/library)), followed by the name of the package:"
   ]
  },
  {
   "cell_type": "code",
   "execution_count": null,
   "id": "991ac7dc-c360-4fb6-862b-37916857de18",
   "metadata": {},
   "outputs": [],
   "source": [
    "library(readr) # this loads the functions we'll use to load the data\n",
    "library(ggplot2) # this loads the functions, etc. needed for us to plot\n",
    "library(dplyr) # this loads the functions, etc. needed for us to work with the data"
   ]
  },
  {
   "cell_type": "markdown",
   "id": "bbf5263e-dd9c-404c-9de1-27a4a9c74768",
   "metadata": {},
   "source": [
    "Note the message that pops up once you run this cell:\n",
    "\n",
    "```R\n",
    "Attaching package: ‘dplyr’\n",
    "\n",
    "\n",
    "The following objects are masked from ‘package:stats’:\n",
    "\n",
    "    filter, lag\n",
    "\n",
    "\n",
    "The following objects are masked from ‘package:base’:\n",
    "\n",
    "    intersect, setdiff, setequal, union\n",
    "```\n",
    "\n",
    "When we load the `dplyr` package, a number of the functions provided by that package have the same name as functions in other packages. This means that when we call, for example, `filter()`, it will use the function provided by `dplyr`, rather than the one provided by `stats`. If we still want to use the function provided by `stats`, we have to explicitly tell **R** this, by using the full name, `stats::filter()`.\n",
    "\n",
    "## loading the data\n",
    "\n",
    "Now, we are finally ready to load the data file, using `read_csv()` ([documentation](https://readr.tidyverse.org/reference/read_delim.html)), a function provided by the `readr` package:"
   ]
  },
  {
   "cell_type": "code",
   "execution_count": null,
   "id": "10c72288-8608-42ba-ac7e-1e737b8b7abf",
   "metadata": {},
   "outputs": [],
   "source": [
    "armagh <- read_csv('data/armaghdata.csv')"
   ]
  },
  {
   "cell_type": "markdown",
   "id": "3d631201-b20e-4044-be74-b0646eef1240",
   "metadata": {},
   "source": [
    "When we load the file using `read_csv()`, it shows us a summary of the data: the number of rows and columns, the **delimiter** used (`,`, since it's a comma-separated variable file), and the type of each of the columns, along with the column names.\n",
    "\n",
    "To view a summary of the data, we'll use the built-in `print()` function. Because this object is not actually a **data.frame**, it's a **tibble** ([documentation](https://tibble.tidyverse.org/)), we only see the first 10 rows this way:"
   ]
  },
  {
   "cell_type": "code",
   "execution_count": null,
   "id": "bc9d6c3d-192e-404e-a0d7-6f307ce50c60",
   "metadata": {},
   "outputs": [],
   "source": [
    "print(armagh)"
   ]
  },
  {
   "cell_type": "markdown",
   "id": "9194d3da-6307-4fdd-ad60-1d947db9a36b",
   "metadata": {},
   "source": [
    "From this, we can see that there are 7 columns (and 2040 rows) in the **tibble**:\n",
    "\n",
    "- `yyyy`, a **double** representing the year of the observation\n",
    "- `mm`, a **double** representing the month of the observation\n",
    "- `tmax`, a **double** representing the maximum observed temperature in the month (in °C)\n",
    "- `tmax`, a **double** representing the minimum observed temperature in the month (in °C)\n",
    "- `af`, a **double** representing the days of air frost in the month\n",
    "- `rain`, a **double** representing the total precipitation in the month (in mm)\n",
    "- `sun`, a **double** representing the total number of hours of sunlight in the month\n",
    "\n",
    "We can also see that only the `rain` variable has values back to 1853 - missing values are indicated by `NA`, which means \"Not Available\" - i.e., missing.\n",
    "\n",
    "## adding variables to the table\n",
    "\n",
    "Before moving on, let's see how we can add additional variables to the table, starting with the date. This will make it easier for us to plot and analyze the time series of observations.\n",
    "\n",
    "### combining strings\n",
    "\n",
    "To do this, we can first use the `paste()` ([documentation](https://www.rdocumentation.org/packages/base/versions/3.6.2/topics/paste)) function, which *concatenates* strings or characters together. We'll use `armagh$yyyy` and `armagh$mm` for the year and month, respectively, and we'll arbitrarily choose the first of the month:\n",
    "\n",
    "```R\n",
    "    paste(armagh$yyyy, armagh$mm, \"1\", sep=\"/\")\n",
    "\n",
    "```\n",
    "\n",
    "For the first row (yyyy=1853, mm=1), the string representation will be `1853/1/1` for 1 January 1853; the second row will be `1853/2/1` for 1 February 1853, and so on:"
   ]
  },
  {
   "cell_type": "code",
   "execution_count": null,
   "id": "e2a01a09-5acd-4726-8c21-f296cadc3c27",
   "metadata": {},
   "outputs": [],
   "source": [
    "paste(armagh$yyyy, armagh$mm, \"1\", sep=\"/\")"
   ]
  },
  {
   "cell_type": "markdown",
   "id": "0a2e43d4-be27-49ea-9854-76717c439742",
   "metadata": {},
   "source": [
    "### a note about dates\n",
    "\n",
    "But, we don't actually want to represent these as strings. Instead, we want them to be represented as a **date** object so that they display properly when we plot them, and because we may want to do calculations using the date/time.\n",
    "\n",
    "For this, we use the built-in `as.Date()` ([documentation](https://devdocs.io/r/library/base/html/as.date)) function. The arguments to this function that we will use are:\n",
    "\n",
    "- `x`, the object that you want to convert to a date representative\n",
    "- `format`, the way that the dates in the object are formatted (for more on this, see the [strptime](https://devdocs.io/r/library/base/html/strptime) function)\n",
    "\n",
    "From above, our dates are formatted as follows:\n",
    "\n",
    "- year with century (represented as `%Y`)\n",
    "- month as decimal number (represented as `%m`)\n",
    "- day as decimal number (represented as `%d`)\n",
    "\n",
    "We used `/` to separate the year, month, and day, which means that the format we have is `%Y/%m/%d`. To add this to the table, we can assign the output of `as.Date` to a new column, `date`, using `armagh$date`:"
   ]
  },
  {
   "cell_type": "code",
   "execution_count": null,
   "id": "e634dfbc-6999-451a-a2c1-94936c4675be",
   "metadata": {},
   "outputs": [],
   "source": [
    "# assign the output of as.Date to a new column, date, in the armagh object:\n",
    "armagh$date <- as.Date(paste(armagh$yyyy, armagh$mm, \"1\", sep=\"/\"), format=\"%Y/%m/%d\")\n",
    "\n",
    "print(armagh) # show the output"
   ]
  },
  {
   "cell_type": "markdown",
   "id": "0b63278e-869c-4dd2-bcb5-3d3e1947b9f6",
   "metadata": {},
   "source": [
    "From the output above, you can see that we have added a new column to the table (`date`), which has the type **date**.\n",
    "\n",
    "## calculating a new variable\n",
    "\n",
    "One thing we might be interested in doing is aggregating our observations by meteorological season, rather than just by month or year. To help us with this, we can calculate a new variable, `season`, and assign it values based on whether the month is part of the meteorological spring (March, April, May), summer (June, July, August), autumn (September, October, November), or winter (December, January, February).\n",
    "\n",
    "Another way to look at this is by thinking of these as `if ... then ... else` statements:\n",
    "\n",
    "- **if** month is 1, 2, or 12, **then** `season` is \"winter\"\n",
    "- **if** month is 3, 4, or 5, **then** `season` is \"spring\"\n",
    "- **if** month is 6, 7, or 8, **then** `season` is \"summer\"\n",
    "- **if** month is 9, 10, or 11, **then** `season` is \"autumn\"\n",
    "\n",
    "First, let's remember how we can select rows from a table using a **conditional** statement. For example, if we want to select all rows where the value in the `mm` column is 1, 2, or 12, we could write:"
   ]
  },
  {
   "cell_type": "code",
   "execution_count": null,
   "id": "fd826af5-b0f3-40f9-bb43-7abc4ae6e7e5",
   "metadata": {},
   "outputs": [],
   "source": [
    "armagh[armagh$mm < 3 | armagh$mm == 12, ]"
   ]
  },
  {
   "cell_type": "markdown",
   "id": "0f80c3bf-226e-456d-96d8-3b1a0043fc6f",
   "metadata": {},
   "source": [
    "As you can see, this selects a total of 510 rows from the table, wherever the value in the `mm` column is 1 or 2 (`< 3`), or 12. \n",
    "\n",
    "Here, we've used the `|` (\"pipe\" or \"logical or\") operator to combine two conditional statements: it returns `TRUE` wherever `armagh$mm < 3` **OR** wherever `armagh$mm == 12`. However, we can also use the `%in%` operator to write this a bit more compactly, by first creating a **vector** with the values that we want. We then use the `%in%` operator, which returns `TRUE` anywhere a value of `armagh$mm` is equal to a value in the comparison **vector**:"
   ]
  },
  {
   "cell_type": "code",
   "execution_count": null,
   "id": "f3f7ce88-3afb-4f84-b2ed-d27355f87ebe",
   "metadata": {},
   "outputs": [],
   "source": [
    "armagh[armagh$mm %in% c(1, 2, 12), ] # select from the table based on whether values are in the vector c(1, 2, 12)"
   ]
  },
  {
   "cell_type": "markdown",
   "id": "182000e8-4d25-4a53-860f-87a13f5d3556",
   "metadata": {},
   "source": [
    "We could then write 4 separate statements to assign values in the table:\n",
    "\n",
    "```R\n",
    "    armagh[armagh$mm %in% c(1, 2, 12), 'season'] <- 'winter'\n",
    "    armagh[armagh$mm %in% 3:5, 'season'] <- 'spring'\n",
    "```\n",
    "\n",
    "... and so on. \n",
    "\n",
    "Instead, we'll look at an easier way to accomplish the same thing, using `case_when()` ([documentation](https://dplyr.tidyverse.org/reference/case_when.html)). This allows us to combine the multiple `if...else` statements into a single function call:"
   ]
  },
  {
   "cell_type": "code",
   "execution_count": null,
   "id": "8398e93d-3da5-4794-b04f-920ee6a41285",
   "metadata": {},
   "outputs": [],
   "source": [
    "armagh$season <- case_when(\n",
    "    armagh$mm %in% c(1, 2, 12) ~ 'winter', # if month is 1, 2, or 12, set it to winter\n",
    "    armagh$mm %in% 3:5 ~ 'spring', # if month is 3, 4, 5, set it to spring\n",
    "    armagh$mm %in% 6:8 ~ 'summer', # if month is 6, 7, 8, set it to summer\n",
    "    armagh$mm %in% 9:11 ~ 'autumn', # if month is 9, 10, 11, set it to autumn\n",
    ")\n",
    "\n",
    "print(armagh) # show the updated table"
   ]
  },
  {
   "cell_type": "markdown",
   "id": "439b5e95-2f24-4dd9-aaa3-036b865e371d",
   "metadata": {},
   "source": [
    "We'll come back to selecting rows in the table later, when we want to select a single season to look at. For now, we'll move on to plotting our data.\n",
    "\n",
    "## plotting data\n",
    "\n",
    "To plot data, we'll use `ggplot2`, a popular and versatile system for making graphics. It uses the **grammar of graphics** (the **gg** in `ggplot2`), which is a single coherent system for building and describing graphs. \n",
    "\n",
    "### example: scatter plot\n",
    "\n",
    "In this exercise, we will look at a number of different example plots using our data, starting with a simple scatter plot, and introducing the different building blocks of `ggplot2`.\n",
    "\n",
    "We begin with the function `ggplot()` ([documentation](https://ggplot2.tidyverse.org/reference/ggplot.html)), which creates a plot object. We want to use the `armagh` data that we have worked with so far, so we can call `ggplot` like this:"
   ]
  },
  {
   "cell_type": "code",
   "execution_count": null,
   "id": "9f19aece-dac4-4a4c-aadb-3b7621fbaaec",
   "metadata": {},
   "outputs": [],
   "source": [
    "ggplot(data=armagh)"
   ]
  },
  {
   "cell_type": "markdown",
   "id": "6ba47289-28aa-452b-b3cc-0e2cfaf8a495",
   "metadata": {},
   "source": [
    "We have not yet told `ggplot` how to visualize the data, so the object is currently a blank canvas. In order to visualize our data, we need to add some **layers**.\n",
    "\n",
    "To do this, we first need tell `ggplot` how these variables are **mapped** to the visual properties (\"**aesthetics**\") of the plot, using the `mapping` argument, and the `aes()` function ([documentation](https://ggplot2.tidyverse.org/reference/aes.html)). Because we want the plot to show how the monthly mean maximum temperature has changed over time, we want the `date` variable to display on the `x` axis, and the `tmax` variable to display on the `y` axis:"
   ]
  },
  {
   "cell_type": "code",
   "execution_count": null,
   "id": "593c131c-ad68-4769-b3ae-cbf7ccdda4eb",
   "metadata": {},
   "outputs": [],
   "source": [
    "ggplot(data=armagh, \n",
    "       mapping=aes(x=date, y=tmax))"
   ]
  },
  {
   "cell_type": "markdown",
   "id": "c31824f8-e906-486c-878c-00c87f64c92f",
   "metadata": {},
   "source": [
    "When we add the mappings, you can see that the axes labels have been added (**tmax** and **date**) and the axes limits have been set based on the dataset, but we still haven't displayed the data. This is because we have to add a **geom** (geometry): the actual geometrical object that plots the data.\n",
    "\n",
    "Some examples of different **geom**s are:\n",
    "\n",
    "- `geom_line()` - for line plots\n",
    "- `geom_point()` - for scatter plots\n",
    "- `geom_bar()` - for bar charts\n",
    "- `geom_boxplot()` - for boxplots\n",
    "\n",
    "... and so on. For a complete list of available **geom**s, check the [reference list](https://ggplot2.tidyverse.org/reference/#layers).\n",
    "\n",
    "We'll look at a few more of these examples later, but since we're starting with a scatter plot (``geom_point()``), we'll add that to our plot using the `+` operator:"
   ]
  },
  {
   "cell_type": "code",
   "execution_count": null,
   "id": "0b24f214-03d7-4095-9807-0b8a90d2244c",
   "metadata": {},
   "outputs": [],
   "source": [
    "ggplot(data=armagh, \n",
    "       mapping=aes(x=date, y=tmax)) + \n",
    "    geom_point()"
   ]
  },
  {
   "cell_type": "markdown",
   "id": "f1cbf88b-73c7-4e52-9447-45857a49defa",
   "metadata": {},
   "source": [
    "And voilà! A (very) simple scatterplot, showing the value of `tmax` over time. \n",
    "\n",
    "Over the rest of the exercise, we will see how we can continue to customize this, by adding colors, customizing the labels, changing the font sizes, and so on. \n",
    "\n",
    "## example: basic histogram\n",
    "\n",
    "Now, let's look at another type of plot: a histogram.\n",
    "\n",
    "Note that as far as **R** is concerned, this:\n",
    "\n",
    "```R\n",
    "\n",
    "    ggplot(data=armagh, mapping=aes(x=date, y=tmax))\n",
    "\n",
    "```\n",
    "\n",
    "Is the same as this:\n",
    "\n",
    "```R\n",
    "\n",
    "    ggplot(armagh, aes(x=date, y=tmax))\n",
    "\n",
    "```\n",
    "\n",
    "That is, the `data` and `mapping` arguments can be specified by **keyword**, or by **position** (`data` first, then `mapping`). To help keep this clear, we'll continue using the keyword arguments for `ggplot()`, but you will most likely see examples online (or even in this workshop) where the positional arguments are used instead.\n",
    "\n",
    "To create a histogram, we need to specify the `x` variable - we're still looking at `tmax`, so we'll specify that here. Because we're trying to plot a histogram, we add `geom_histogram()` to this:"
   ]
  },
  {
   "cell_type": "code",
   "execution_count": null,
   "id": "61b66642-f99e-4136-a486-dce85c21b0d0",
   "metadata": {},
   "outputs": [],
   "source": [
    "ggplot(data=armagh, mapping=aes(x=tmax)) +\n",
    "  geom_histogram()"
   ]
  },
  {
   "cell_type": "markdown",
   "id": "ceb3315a-e22b-4903-b4f3-6e0e4cf92e6a",
   "metadata": {},
   "source": [
    "Note the message displayed here:\n",
    "\n",
    "```\n",
    "    `stat_bin()` using `bins = 30`. Pick better value with `binwidth`.\n",
    "```\n",
    "\n",
    "When we add the histogram **geom**, we can also specify the `binwidth`, which sets the size of the histogram bins in the same units as the variable (in this case, °C), or the number of `bins` (the default value is 30). \n",
    "\n",
    "Go ahead and change the cell above so that the plot uses a `binwidth` of 1 - how much does this change the plot?\n",
    "\n",
    "In the plot above, you can see how `tmax` is distributed, with several apparent peaks around 8°C, 14°C, and 18°C. Presumably, these would be peaks that roughly correspond to winter, spring/autumn, and summer, respectively - let's change the plot slightly so that we can see if this is correct.\n",
    "\n",
    "To do this, we can use the `color` keyword argument to `aes()`. Note that this argument only tells `ggplot` what variable to use for grouping and coloring the data - we can't use this to, say, change all of the bars from gray to blue (for that, we use the `fill` keyword argument to the **geom** we are using):"
   ]
  },
  {
   "cell_type": "code",
   "execution_count": null,
   "id": "7dd82ec7-b724-4df3-ade6-9cb6231c55f9",
   "metadata": {},
   "outputs": [],
   "source": [
    "ggplot(armagh, aes(x=tmax, color=season)) +\n",
    "  geom_histogram(binwidth=1, linewidth=2, fill='white') # add a histogram with bins of width 1, thick lines, and white bars"
   ]
  },
  {
   "cell_type": "markdown",
   "id": "fbd2a3f8-f922-48c9-86ca-8b3e54ddd5f1",
   "metadata": {},
   "source": [
    "With this plot, we can see how the total distribution of the dataset is made up of each group - as we had suspected, the peaks on either side primarily correspond to winter (the purple color) and summer (cyan), while the peak in the middle is a combination of spring (green) and autumn (salmon).\n",
    "\n",
    "While this nicely shows us the breakdown for the distribution of the entire dataset, and especially for summer and winter, it's a little bit harder to see the distribution for spring and autumn, since they're stacked on top of the other seasons. If we want to show each distribution individually, we can use the `position` argument. By default,this is set to `'stack'`, but if we change it to `'identity'`, the bars are overlapping (note also that I have used the `alpha` argument to make the bars transparent):"
   ]
  },
  {
   "cell_type": "code",
   "execution_count": null,
   "id": "3dbdd61a-b7a6-48dc-878a-729e5122673d",
   "metadata": {},
   "outputs": [],
   "source": [
    "ggplot(data=armagh, mapping=aes(x=tmax, color=season, fill=season)) +\n",
    "  geom_histogram(binwidth=1, linewidth=2, alpha=0.4, position='identity') # add a histogram with bins of width 1, thick lines, and white bars"
   ]
  },
  {
   "cell_type": "markdown",
   "id": "337bce7b-4d19-464a-aafb-0343f0190fb7",
   "metadata": {},
   "source": [
    "### example: density plot\n",
    "\n",
    "We can also plot the density distribution of the data, a smoothed version of the histogram, using `geom_density()` ([documentation](https://ggplot2.tidyverse.org/reference/geom_density.html)):"
   ]
  },
  {
   "cell_type": "code",
   "execution_count": null,
   "id": "4d6f0614-c348-4605-bf56-1828f3f3b1e9",
   "metadata": {},
   "outputs": [],
   "source": [
    "ggplot(data=armagh, mapping=aes(x=tmax, color=season, fill=season)) + # create a plot with tmax on the x-axis, colored by season\n",
    "  geom_density(alpha=0.4, linewidth=1) # add a density plot with transparency of 0.4 and lines of width 1"
   ]
  },
  {
   "cell_type": "markdown",
   "id": "2b07e79a-a876-400a-beb3-22fe2dc5d9cf",
   "metadata": {},
   "source": [
    "## grouping data\n",
    "\n",
    "Next, we want to add a vertical line to the plot, showing the mean value of `tmax` for each season. Before we do this, though, we'll look at a few functions that we can use to calculate the mean by season, while also removing all of the `NA` values in the table. \n",
    "\n",
    "### handling NA values\n",
    "\n",
    "First, we can use `filter()` ([documentation](https://dplyr.tidyverse.org/reference/filter.html)) - remember that this is the `filter()` from `dplyr`, **not** from the `base` package - to remove values that satisfy a given condition. \n",
    "\n",
    "One thing to note is that we can't simply use the `==` operator to test whether a value is `NA` or not:"
   ]
  },
  {
   "cell_type": "code",
   "execution_count": null,
   "id": "be3c363a-b23b-461d-9663-8d3fff70cbc2",
   "metadata": {
    "scrolled": true
   },
   "outputs": [],
   "source": [
    "armagh[armagh$tmax == NA, ] # this will return a table of NA values"
   ]
  },
  {
   "cell_type": "markdown",
   "id": "2bc6a131-d411-44b7-bd6c-5e01dad38344",
   "metadata": {},
   "source": [
    "This is because the equality operator (`==`) doesn't apply to `NA` values - if one of the values in the comparative statement is `NA`, the result is also `NA`. This is important to keep in mind - `NA` values behave very differently from other values!\n",
    "\n",
    "Instead, we can use the `is.na()` ([documentation](https://devdocs.io/r/library/matrix/html/is.na-methods)) function from the `base` package:"
   ]
  },
  {
   "cell_type": "code",
   "execution_count": null,
   "id": "4b324fd8-35e3-4ec6-a511-68c02b39c9dd",
   "metadata": {},
   "outputs": [],
   "source": [
    "is.na(armagh$tmax) # use is.na to return TRUE wherever tmax is NA, and FALSE wherever it is not"
   ]
  },
  {
   "cell_type": "markdown",
   "id": "4050b072-d670-460b-80f8-bfc8d56a1184",
   "metadata": {},
   "source": [
    "Now we have a statement that will remove all of the `NA` values from our dataset. Remember that we want to remove `NA` values, so really this means that we want to filter using the *logical negation* (`!`) of the output of `is.na()`:"
   ]
  },
  {
   "cell_type": "code",
   "execution_count": null,
   "id": "c1d6a3a2-2bfa-4f5f-9c84-68d824d07363",
   "metadata": {
    "scrolled": true
   },
   "outputs": [],
   "source": [
    "filter(armagh, !is.na(armagh$tmax)) # use filter to remove rows where tmax is NA"
   ]
  },
  {
   "cell_type": "markdown",
   "id": "ba4f72cb-fdc1-4191-b9bd-723539f3fa53",
   "metadata": {},
   "source": [
    "Next, we'll look at another operator that we can use to easily combine function calls: the `|>` (\"pipe\") operator.\n",
    "\n",
    "In brief, `|>` tells **R** to take the output of the thing on the left, and pass it to the function call on the right. Thinking about this mathematically, `x |> f(y)` is equivalent to `f(x, y)`. We can also use this to combine multiple function calls - so, `x |> f(y) |> g(z)` is equivalent to `g(f(x, y), z)`, and so on. \n",
    "\n",
    "So, let's use this to combine the `filter()` output with `group_by()` ([documentation](https://dplyr.tidyverse.org/reference/group_by.html)), to group the filtered data using the season:"
   ]
  },
  {
   "cell_type": "code",
   "execution_count": null,
   "id": "27047ad6-12df-4730-99b7-330815dc3e3d",
   "metadata": {
    "scrolled": true
   },
   "outputs": [],
   "source": [
    "armagh |> # pass armagh on to the next function call\n",
    "    filter(!is.na(tmax)) |> # use filter to remove NA values using !is.na\n",
    "    group_by(season) # group the filtered output by the value of season"
   ]
  },
  {
   "cell_type": "markdown",
   "id": "ba898f3f-7563-4a1f-b4be-9129280c6d79",
   "metadata": {},
   "source": [
    "This looks largely the same as the previous output, with one important distinction: this is now a **grouped_df**, rather than a **spec_tbl_df** - this means that when we call the `summarize()` ([documentation](https://dplyr.tidyverse.org/reference/summarise.html)) function on the output, the summary is calculated based on each *group*, rather than all values of the variable. \n",
    "\n",
    "The arguments to `summarize()` are each of the of variables that we want to calculate, including how to calculate them. In the cell below, we're adding a variable to the summary table, `tmax`, calculated as the mean (`mean()`) of `armagh$tmax`:"
   ]
  },
  {
   "cell_type": "code",
   "execution_count": null,
   "id": "ac773748-fb43-43d9-a5a7-238816cc0c50",
   "metadata": {},
   "outputs": [],
   "source": [
    "seasonal_summary <- armagh |>\n",
    "                   filter(!is.na(tmax)) |> # remove NA values using !is.na\n",
    "                   group_by(season) |> # group the data using season\n",
    "                   summarize(tmax = mean(tmax)) # return only the tmax, averaged by season\n",
    "print(seasonal_summary)"
   ]
  },
  {
   "cell_type": "markdown",
   "id": "913a807d-2346-4f91-81d9-c65858d53317",
   "metadata": {},
   "source": [
    "Now that we have this put all together, we can use `geom_vline()` to plot a vertical line at the location of each seasonal mean value:"
   ]
  },
  {
   "cell_type": "code",
   "execution_count": null,
   "id": "bfb45de7-7685-4277-a7f3-c568a035ef3e",
   "metadata": {},
   "outputs": [],
   "source": [
    "ggplot(data=armagh, mapping=aes(x=tmax, color=season, fill=season)) + # create a plot with tmax on the x-axis, colored by season\n",
    "  geom_density(alpha=0.4, linewidth=1) + # add a density plot with transparency of 0.4 and lines of width 1\n",
    "  geom_vline(data=seasonal_summary, mapping=aes(xintercept=tmax, color=season), linewidth=1, linetype='dashed') # add dashed vertical lines at the seasonal mean tmax"
   ]
  },
  {
   "cell_type": "markdown",
   "id": "c15ab5f6-a9d7-4aa3-996a-8714a3f7ac7c",
   "metadata": {},
   "source": [
    "### example: box plots\n",
    "\n",
    "To make a box plot, we use `geom_boxplot()`:"
   ]
  },
  {
   "cell_type": "code",
   "execution_count": null,
   "id": "e23160a0-6da4-4116-9d3f-1e8ac29b6f69",
   "metadata": {},
   "outputs": [],
   "source": [
    "ggplot(data=armagh, mapping=aes(x=season, y=rain)) +\n",
    "  geom_boxplot()"
   ]
  },
  {
   "cell_type": "markdown",
   "id": "9e49b8af-4e3b-4eb3-95ad-89c7f19cde4b",
   "metadata": {},
   "source": [
    "## facet wrapping\n",
    "\n",
    "We might also want to plot our data using different subplots, or **facets**. For example, we can create a scatter plot of `tmax` vs `rain`, colored by season:"
   ]
  },
  {
   "cell_type": "code",
   "execution_count": null,
   "id": "c4390799-2bcf-41ac-ae1c-5ec69d4d7835",
   "metadata": {},
   "outputs": [],
   "source": [
    "ggplot(data=armagh, mapping=aes(x=rain, y=tmax, color=season)) + # plot tmax vs rain, colored by season\n",
    "    geom_point() # plot a point cloud"
   ]
  },
  {
   "cell_type": "markdown",
   "id": "d6606e9d-d33f-4d2e-a7f2-e34ec2c5a0df",
   "metadata": {},
   "source": [
    "But, this makes it difficult to see the scatter for each season. To split this into a single subplot for each season, we use `facet_wrap()` ([documentation](https://ggplot2.tidyverse.org/reference/facet_wrap.html)):"
   ]
  },
  {
   "cell_type": "code",
   "execution_count": null,
   "id": "a14e8521-43cb-42b0-93a5-6e4b3b80d1b8",
   "metadata": {},
   "outputs": [],
   "source": [
    "ggplot(data=armagh, mapping=aes(x=rain, y=tmax, color=season)) + # plot tmax vs rain, colored by season\n",
    "    geom_point() + # plot a point cloud\n",
    "    facet_wrap(~season) # use facet_wrap to make a subplot for each season"
   ]
  },
  {
   "cell_type": "markdown",
   "id": "df6d11bd-d1a0-4ebc-962b-34762916ea12",
   "metadata": {},
   "source": [
    "## cleaning up and saving the plot to a file\n",
    "\n",
    "In the final example, we'll make a plot showing the annually-averaged monthly maximum temperature over time, along with a linear fit to the data. We'll also see how we can change the axes labels, and increase font sizes, to help make our plot ready for including in a manuscript or presentation.\n",
    "\n",
    "First, we'll use `group_by()`, `summarize()`, and `filter()` to calculate the annually-averaged value of `tmax`:"
   ]
  },
  {
   "cell_type": "code",
   "execution_count": null,
   "id": "397eeb46-8eb4-499d-ac1c-61cf2983313b",
   "metadata": {},
   "outputs": [],
   "source": [
    "annual_tmax <- armagh |>\n",
    "                group_by(yyyy) |> # group the data using yyyy (i.e., by year)\n",
    "                summarize(tmax = mean(tmax)) |> # return only the tmax, averaged by yyyy\n",
    "                filter(!is.na(tmax)) # drop NA values from the table\n",
    "print(annual_tmax) # show the first 10 rows of the table"
   ]
  },
  {
   "cell_type": "markdown",
   "id": "03d2a79f-6d5f-4280-8def-338c1369d0ef",
   "metadata": {},
   "source": [
    "Up to now, we've just been showing the output of `ggplot()` directly by running each cell. In a script, however, this wouldn't work - we want to assign the output to a new **object**, which we can then use in the script (including, ultimately, by saving the plot to a file).\n",
    "\n",
    "We do this exactly the same way as we have previously, using the `<-` operator:"
   ]
  },
  {
   "cell_type": "code",
   "execution_count": null,
   "id": "634a075b-0447-4a39-a415-c854136bd5b6",
   "metadata": {},
   "outputs": [],
   "source": [
    "annual_plot <- ggplot(grouped_tmax, aes(x=yyyy, y=tmax)) + # create a plot of tmax vs year\n",
    "                geom_point() # make a scatter plot\n",
    "annual_plot # show the plot"
   ]
  },
  {
   "cell_type": "markdown",
   "id": "fb7717d9-f0b4-4519-a9d1-6f9201427575",
   "metadata": {},
   "source": [
    "Now that we have saved the output as an **object**, `annual_plot`, we can add to this in exactly the same way as we have before. For example, if we now want to add the linear fit, we can use `geom_smooth()` ([documentation](https://ggplot2.tidyverse.org/reference/geom_smooth.html)), with `method` set to `lm` (for **l**inear **m**odel):"
   ]
  },
  {
   "cell_type": "code",
   "execution_count": null,
   "id": "5c16bd18-1742-4b2a-85df-42060cc381dd",
   "metadata": {},
   "outputs": [],
   "source": [
    "annual_plot <- annual_plot + \n",
    "                geom_smooth(method = 'lm') # add a linear fit to the data\n",
    "annual_plot # show the plot again"
   ]
  },
  {
   "cell_type": "markdown",
   "id": "a6b6e5a1-63b0-4b6e-b579-cd9720ef415f",
   "metadata": {},
   "source": [
    "And, we can change the axes labels using `xlab()` (for the **x** axis) and `ylab()` (for the **y** axis), respectively ([documentation](https://ggplot2.tidyverse.org/reference/labs.html)):"
   ]
  },
  {
   "cell_type": "code",
   "execution_count": null,
   "id": "ba388d4a-e5de-442e-8319-fc12a67165d5",
   "metadata": {},
   "outputs": [],
   "source": [
    "annual_plot <- annual_plot + \n",
    "                    xlab('year') + \n",
    "                    ylab('mean monthly maximum temperature (°C)')\n",
    "annual_plot"
   ]
  },
  {
   "cell_type": "markdown",
   "id": "6f8e5c31-f208-4a91-89f8-51d53bc1f364",
   "metadata": {},
   "source": [
    "We're almost there, but we have one more step - we need to change the size of the text so that it's more easily readable. \n",
    "\n",
    "To modify this aspect of our plot, we use the `theme()` function ([documentation](https://ggplot2.tidyverse.org/reference/theme.html)). There are many different ways to customize our plots in this way - we can have different colors for the x and y labels, we can change fonts, we can use different font sizes for the tick labels and the axis labels, and so on.\n",
    "\n",
    "Rather than go too deep into the weeds, though, we'll set the tick labels (`axis.text`) and the axis labels (`axis.title`), and we'll set them to a font size of 18:"
   ]
  },
  {
   "cell_type": "code",
   "execution_count": null,
   "id": "07830e7d-b911-4039-a0ad-0f0b6272010a",
   "metadata": {},
   "outputs": [],
   "source": [
    "annual_plot <- annual_plot + \n",
    "                theme(\n",
    "                    axis.text=element_text(size=18),\n",
    "                    axis.title=element_text(size=18)\n",
    "                )\n",
    "annual_plot"
   ]
  },
  {
   "cell_type": "markdown",
   "id": "e7752e68-4662-40e6-9222-90429eea96fb",
   "metadata": {},
   "source": [
    "Finally, we'll use `ggsave()` ([documentation](https://ggplot2.tidyverse.org/reference/ggsave.html)) to save the plot to a file:"
   ]
  },
  {
   "cell_type": "code",
   "execution_count": null,
   "id": "0d5ccc4e-bd1b-42e4-8a39-c8266b0f2ce5",
   "metadata": {},
   "outputs": [],
   "source": [
    "ggsave('mean_annual_tmax.png', plot=annual_plot) # save the plot to a file"
   ]
  },
  {
   "cell_type": "markdown",
   "id": "e1398e93-dc61-4997-97c1-8f6e0d7779d0",
   "metadata": {},
   "source": [
    "## exercise and next steps\n",
    "\n",
    "That's all for this \n",
    "\n",
    "For the task, create a script that does the following:\n",
    "\n",
    "- loads the packages that you will need at the beginning\n",
    "- aggregates the values\n",
    "- adds a variable to divide the data into three 50 year periods (e.g., 1871-1920, 1921-1970, 1971-2020)\n",
    "- creates a figure to plot the distribution of tmin for each period in its own panel\n",
    "- creates a figure to plot the distribution of tmin for each period in the same panel, colored by the period (using fill), with a mean (solid) and dashed (median) line for each season\n",
    "- sets labels and font sizes\n",
    "- saves each plot to its own file\n"
   ]
  },
  {
   "cell_type": "code",
   "execution_count": null,
   "id": "c7dd99e1-9d69-4156-a574-d0ec981ff809",
   "metadata": {},
   "outputs": [],
   "source": []
  }
 ],
 "metadata": {
  "kernelspec": {
   "display_name": "R",
   "language": "R",
   "name": "ir"
  },
  "language_info": {
   "codemirror_mode": "r",
   "file_extension": ".r",
   "mimetype": "text/x-r-source",
   "name": "R",
   "pygments_lexer": "r",
   "version": "4.1.3"
  }
 },
 "nbformat": 4,
 "nbformat_minor": 5
}
