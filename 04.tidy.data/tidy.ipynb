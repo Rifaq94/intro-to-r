{
 "cells": [
  {
   "cell_type": "markdown",
   "id": "04c29453-9a05-4d8d-8baa-049aa6c07112",
   "metadata": {},
   "source": [
    "# keeping data tidy"
   ]
  },
  {
   "cell_type": "code",
   "execution_count": null,
   "id": "cb4358b4-4afc-4557-8174-1261ff86b24e",
   "metadata": {},
   "outputs": [],
   "source": []
  }
 ],
 "metadata": {
  "kernelspec": {
   "display_name": "R",
   "language": "R",
   "name": "ir"
  },
  "language_info": {
   "codemirror_mode": "r",
   "file_extension": ".r",
   "mimetype": "text/x-r-source",
   "name": "R",
   "pygments_lexer": "r",
   "version": "4.1.3"
  }
 },
 "nbformat": 4,
 "nbformat_minor": 5
}
