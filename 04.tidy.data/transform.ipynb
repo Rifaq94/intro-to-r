{
 "cells": [
  {
   "cell_type": "markdown",
   "id": "0667b166-1345-43f0-a514-0c4e79cdb3f7",
   "metadata": {},
   "source": [
    "# transforming data"
   ]
  },
  {
   "cell_type": "code",
   "execution_count": 2,
   "id": "1baecf8a-0ab1-4963-a048-d1621a46df83",
   "metadata": {},
   "outputs": [
    {
     "ename": "ERROR",
     "evalue": "Error in library(nycflights13): there is no package called ‘nycflights13’\n",
     "output_type": "error",
     "traceback": [
      "Error in library(nycflights13): there is no package called ‘nycflights13’\nTraceback:\n",
      "1. library(nycflights13)"
     ]
    }
   ],
   "source": []
  },
  {
   "cell_type": "code",
   "execution_count": null,
   "id": "db6350cb-300e-4939-85cc-59df7ab98dbb",
   "metadata": {},
   "outputs": [],
   "source": []
  }
 ],
 "metadata": {
  "kernelspec": {
   "display_name": "R",
   "language": "R",
   "name": "ir"
  },
  "language_info": {
   "codemirror_mode": "r",
   "file_extension": ".r",
   "mimetype": "text/x-r-source",
   "name": "R",
   "pygments_lexer": "r",
   "version": "4.1.3"
  }
 },
 "nbformat": 4,
 "nbformat_minor": 5
}
