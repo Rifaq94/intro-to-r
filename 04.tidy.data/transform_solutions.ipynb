{
 "cells": [
  {
   "cell_type": "markdown",
   "id": "791d4c80-e266-4f37-813c-09459a569740",
   "metadata": {},
   "source": [
    "## load the libraries that you need"
   ]
  },
  {
   "cell_type": "code",
   "execution_count": null,
   "id": "c0d878a6-027e-42b6-8309-534624550f84",
   "metadata": {},
   "outputs": [],
   "source": [
    "library(readr) # this loads the functions we'll use to load the data\n",
    "library(ggplot2) # this loads the functions, etc. needed for us to plot\n",
    "library(dplyr) # this loads the functions, etc. needed for us to work with the data"
   ]
  },
  {
   "cell_type": "markdown",
   "id": "5038b355-bcd0-4eba-a1c2-201caf179bc2",
   "metadata": {},
   "source": [
    "## loads the saved data file (combined_stations.csv)"
   ]
  },
  {
   "cell_type": "code",
   "execution_count": null,
   "id": "9fea4672-7ed1-485e-bc34-499526cf5003",
   "metadata": {},
   "outputs": [],
   "source": [
    "station_data <- read_csv(file.path('data', 'combined_stations.csv'))"
   ]
  },
  {
   "cell_type": "markdown",
   "id": "7fa9bffe-11e8-4bd8-9957-7c3b91e290de",
   "metadata": {},
   "source": [
    "## questions\n",
    "\n",
    "### what station has the highest recorded rainfall in the past 20 years, and on what date?\n",
    "\n",
    "For this, we want to first filter the dataset to only include the past 20 years. We can type this manually, but we can also use `Sys.Date()` to get the current date, use `format()` to get the year, and then subtract 20 from the numeric representation.\n",
    "\n",
    "To select the row with the maximum value of `rain`, we use `slice_max()`:"
   ]
  },
  {
   "cell_type": "code",
   "execution_count": null,
   "id": "e335db93-a780-4f6b-8480-e223340322da",
   "metadata": {},
   "outputs": [],
   "source": [
    "station_data |> \n",
    "    filter(year > as.numeric(format(Sys.Date(), \"%Y\")) - 20) |>\n",
    "    slice_max(rain, n=1)"
   ]
  },
  {
   "cell_type": "markdown",
   "id": "8c4375ff-34b1-4093-9d5f-bc5a8b1e2a41",
   "metadata": {},
   "source": [
    "### what season has the lowest average rainfall for each station?\n",
    "\n",
    "Here, we want to group by `station` and `season`, then use `summarise` to calculate the averages, then use `slice_min()` to select the lowest value of `rain` for each group:"
   ]
  },
  {
   "cell_type": "code",
   "execution_count": null,
   "id": "da64cecc-c3ed-4a76-be51-86f35be500f2",
   "metadata": {},
   "outputs": [],
   "source": [
    "station_data |> \n",
    "    group_by(station, season) |>\n",
    "    summarise(avg_rain = mean(rain, na.rm = TRUE)) |>\n",
    "    slice_min(avg_rain)"
   ]
  },
  {
   "cell_type": "markdown",
   "id": "1f2f56fc-de81-404c-aa8c-10ff71a1d24f",
   "metadata": {},
   "source": [
    "### what station has recorded the most months with tmin < 1°C? are all these observations from a single season?\n",
    "\n",
    "First, we use `filter()` to only select rows with `tmin < 1`; then, group by `station` and `season`, then `count()` to count the number of rows in each group, then `ungroup()` to be able to select the row with the maximum value.\n",
    "\n",
    "To check whether these observations are from a single season or not, we can omit the last line."
   ]
  },
  {
   "cell_type": "code",
   "execution_count": null,
   "id": "62b03088-9afa-49a6-9604-ab7c1c10c474",
   "metadata": {},
   "outputs": [],
   "source": [
    "station_data |> \n",
    "    filter(tmin < 1) |>\n",
    "    group_by(station, season) |> \n",
    "    count() |> \n",
    "    ungroup() |> \n",
    "    slice_max(n)"
   ]
  },
  {
   "cell_type": "markdown",
   "id": "09e0944c-2dc3-4af9-9956-804f248304c8",
   "metadata": {},
   "source": [
    "### what is the median rainfall in months where tmax is greater than 20°C? make sure that your result is a number, not a tibble!\n",
    "\n",
    "First, use `filter()` to select only rows where `tmax > 20`; then, summarize to calculate the median value, then use `pull()` to get the value of `rain`."
   ]
  },
  {
   "cell_type": "code",
   "execution_count": null,
   "id": "f53d6fb5-6f19-4668-8a1d-ec19ed15949a",
   "metadata": {},
   "outputs": [],
   "source": [
    "station_data |> \n",
    "    filter(tmax > 20) |>\n",
    "    summarize(rain = median(rain, na.rm = TRUE)) |> \n",
    "    pull(rain)"
   ]
  },
  {
   "cell_type": "markdown",
   "id": "dd59b4b7-650e-45b5-8054-055d578c4c48",
   "metadata": {},
   "source": [
    "### what year saw the most total rainfall, using data from all four stations?\n",
    "\n",
    "First, we have to group by year, then summarize to get the sum of the rain. Finally, we use slice_min to select the row with the highest value:"
   ]
  },
  {
   "cell_type": "code",
   "execution_count": null,
   "id": "cc2ef2b9-b197-43c3-882d-50c3ac0ec16c",
   "metadata": {},
   "outputs": [],
   "source": [
    "station_data |>\n",
    "    group_by(year) |>\n",
    "    summarize(total_rain = sum(rain)) |>\n",
    "    slice_max(total_rain, n=1)"
   ]
  },
  {
   "cell_type": "markdown",
   "id": "3a3d293a-0308-4034-86ee-b941d00e877f",
   "metadata": {},
   "source": [
    "### what are the top 5 driest years, using only data from stations in Britain?\n",
    "\n",
    "Like before, we use `group_by()`, `summarize()`, and `slice_min()`, but we first want to `filter()` to only select stations in Britain (Oxford, Southampton, and Stornoway):"
   ]
  },
  {
   "cell_type": "code",
   "execution_count": null,
   "id": "9dda0ea7-5e74-4eb7-b2dc-2d28ccca086d",
   "metadata": {},
   "outputs": [],
   "source": [
    "station_data |>\n",
    "    filter(station %in% c('oxford', 'southampton', 'stornoway')) |>\n",
    "    group_by(year) |>\n",
    "    summarize(total_rain = sum(rain)) |>\n",
    "    slice_min(total_rain, n=5)"
   ]
  },
  {
   "cell_type": "markdown",
   "id": "aa80e0e5-a80d-488b-bef3-fc8a8c14f6e8",
   "metadata": {},
   "source": [
    "### what is the lowest annually-averaged monthly minimum temperature in the dataset, as measured by a single station?\n",
    "\n",
    "Here, we want to first use `group_by()` to group by `station` and `year`; then, we use `summarize()` to get the annually-averaged value of `tmin`. If we use `slice_min()` on the output of this, we will actually get 4 rows: one for each value of `station`; because we don't care what station, we can use `ungroup()` ([documentation](https://dplyr.tidyverse.org/reference/group_by.html)) to remove the groups and get only a single station:"
   ]
  },
  {
   "cell_type": "code",
   "execution_count": null,
   "id": "6b0e75f8-9816-480c-a721-f529019fd245",
   "metadata": {},
   "outputs": [],
   "source": [
    "station_data |> \n",
    "    group_by(station, year) |>\n",
    "    summarize(tmin = mean(tmin, na.rm = TRUE)) |>\n",
    "    ungroup() |>\n",
    "    slice_min(tmin, n=1)"
   ]
  },
  {
   "cell_type": "markdown",
   "id": "43d65ad0-5b42-481a-8b5a-2ec4ebca27f3",
   "metadata": {},
   "source": [
    "### what is the sunniest month, on average, in armagh? \n",
    "\n",
    "For this, we use `filter()` to select only rows where `station` is `'armagh'`, then group by month, `summarize` to get the mean value of `sun` for each month, then use `slice_max` to select the row with the maximum value:"
   ]
  },
  {
   "cell_type": "code",
   "execution_count": null,
   "id": "6a61c579-3ca2-4d9b-96d6-cbc49f2b1185",
   "metadata": {},
   "outputs": [],
   "source": [
    "station_data |>\n",
    "    filter(station == 'armagh') |>\n",
    "    group_by(month) |>\n",
    "    summarize(sun = mean(sun, na.rm = TRUE)) |>\n",
    "    slice_max(sun)"
   ]
  },
  {
   "cell_type": "markdown",
   "id": "45afa0f3-5210-40d7-8f04-4c909bbe60bc",
   "metadata": {},
   "source": [
    "### bonus: write a line that will rename the months from the number to a 3-letter abbreviation"
   ]
  },
  {
   "cell_type": "code",
   "execution_count": null,
   "id": "3ffd7407-2103-41cd-a524-d18d8d0168db",
   "metadata": {},
   "outputs": [],
   "source": [
    "station_data |>\n",
    "    filter(station == 'armagh') |>\n",
    "    group_by(month) |>\n",
    "    summarize(sun = mean(sun, na.rm = TRUE)) |>\n",
    "    mutate(month = month.abb[month]) |>\n",
    "    slice_max(sun)"
   ]
  }
 ],
 "metadata": {
  "kernelspec": {
   "display_name": "R",
   "language": "R",
   "name": "ir"
  },
  "language_info": {
   "codemirror_mode": "r",
   "file_extension": ".r",
   "mimetype": "text/x-r-source",
   "name": "R",
   "pygments_lexer": "r",
   "version": "4.1.3"
  }
 },
 "nbformat": 4,
 "nbformat_minor": 5
}
